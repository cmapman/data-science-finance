{
  "nbformat": 4,
  "nbformat_minor": 0,
  "metadata": {
    "colab": {
      "provenance": []
    },
    "kernelspec": {
      "name": "python3",
      "display_name": "Python 3"
    },
    "language_info": {
      "name": "python"
    }
  },
  "cells": [
    {
      "cell_type": "markdown",
      "source": [
        "# Risk Models in Finance"
      ],
      "metadata": {
        "id": "D1ZPHFsTe5xg"
      }
    },
    {
      "cell_type": "markdown",
      "source": [
        "Aleksandr K."
      ],
      "metadata": {
        "id": "tFo6_dUve9Np"
      }
    },
    {
      "cell_type": "markdown",
      "source": [
        "In this part, I focus on the Black-Scholes model and the copula model. You can find descriptions of the other methods mentioned here in other folders of my repository."
      ],
      "metadata": {
        "id": "BqVIGdtbe-x7"
      }
    },
    {
      "cell_type": "markdown",
      "source": [
        "Here is a list of common risk models used in finance:\n",
        "\n",
        "* Value-at-Risk (VaR): VaR is a widely used risk model that estimates the maximum loss a portfolio may incur at a given confidence level over a specific time horizon. It is based on statistical methods and provides a quantitative measure of downside risk.\n",
        "\n",
        "* Expected Shortfall (ES): Also known as Conditional Value-at-Risk (CVaR), ES is an extension of VaR that measures the average of the worst tail outcomes beyond the VaR threshold. ES provides a more comprehensive measure of portfolio risk as it considers the severity of extreme events.\n",
        "\n",
        "* Historical Simulation: This approach uses historical data to estimate the risk of a portfolio. It involves simulating the portfolio's performance based on past market data, and using the resulting distribution to estimate risk measures.\n",
        "\n",
        "* Monte Carlo Simulation: Monte Carlo simulation is a statistical technique that uses random sampling to model the uncertainty in financial markets. It involves generating multiple scenarios of future market movements and simulating the portfolio's performance under those scenarios to estimate risk measures.\n",
        "\n",
        "* Black-Scholes Model: This is a widely used option pricing model that estimates the risk associated with options contracts. It calculates the theoretical price of an option based on various inputs such as stock price, strike price, time to expiration, and implied volatility.\n",
        "\n",
        "* GARCH Models: Generalized Autoregressive Conditional Heteroskedasticity (GARCH) models are used to estimate the volatility of financial time series data. GARCH models account for time-varying volatility, which is common in financial markets, and are often used for risk management of portfolios with time-dependent volatility.\n",
        "\n",
        "* Copula Models: Copula models are used to model the dependence structure between multiple variables, such as portfolio returns. They provide a flexible way to estimate joint probabilities of extreme events and are commonly used in portfolio risk management to model the tail dependencies among assets.\n",
        "\n",
        "* Stress Testing: Stress testing involves subjecting a portfolio or financial system to extreme scenarios or shocks to assess its resilience. It helps identify potential vulnerabilities and estimate the impact of severe events on portfolio performance.\n",
        "\n",
        "* Factor Models: Factor models are used to estimate portfolio risk by capturing the exposure of a portfolio to various risk factors, such as market risk, interest rate risk, and credit risk. They provide a way to decompose portfolio risk into different sources and assess the contributions of each factor to overall risk.\n",
        "\n",
        "* Scenario Analysis: Scenario analysis involves evaluating the impact of specific scenarios or events on a portfolio's performance. It often involves qualitative assessments and expert judgment to estimate the potential risks associated with specific events or changes in market conditions.\n",
        "\n",
        "*Note*: It's important to remember that risk models are not perfect and have limitations. They are tools used to estimate risk and should be used in conjunction with other risk management techniques and professional judgment. Risk models should be tailored to specific portfolios and investment strategies, and their effectiveness should be regularly evaluated and updated."
      ],
      "metadata": {
        "id": "FhRVp6qlf1TP"
      }
    },
    {
      "cell_type": "markdown",
      "source": [
        "### The Black-Scholes model "
      ],
      "metadata": {
        "id": "5119InMQg-_6"
      }
    },
    {
      "cell_type": "markdown",
      "source": [
        "A simple example of implementing the Black-Scholes model for option pricing in Python using the `scipy` library:"
      ],
      "metadata": {
        "id": "UwXNd4OMgSed"
      }
    },
    {
      "cell_type": "code",
      "execution_count": 1,
      "metadata": {
        "colab": {
          "base_uri": "https://localhost:8080/"
        },
        "id": "4EGWcWaGe5Bx",
        "outputId": "5d530da7-7385-476a-d617-4c4c88b1b22a"
      },
      "outputs": [
        {
          "output_type": "stream",
          "name": "stdout",
          "text": [
            "Call Option Price: $ 4.58\n",
            "Put Option Price: $ 6.99\n"
          ]
        }
      ],
      "source": [
        "import numpy as np\n",
        "from scipy.stats import norm\n",
        "\n",
        "def black_scholes(S, K, T, r, sigma, option_type='call'):\n",
        "    \"\"\"\n",
        "    Black-Scholes model for option pricing.\n",
        "\n",
        "    Parameters:\n",
        "        S (float): Current stock price\n",
        "        K (float): Strike price of the option\n",
        "        T (float): Time to expiration (in years)\n",
        "        r (float): Risk-free rate\n",
        "        sigma (float): Volatility of the stock\n",
        "        option_type (str): Option type, either 'call' or 'put'\n",
        "\n",
        "    Returns:\n",
        "        float: Option price\n",
        "    \"\"\"\n",
        "    d1 = (np.log(S / K) + (r + 0.5 * sigma**2) * T) / (sigma * np.sqrt(T))\n",
        "    d2 = d1 - sigma * np.sqrt(T)\n",
        "\n",
        "    if option_type == 'call':\n",
        "        option_price = S * norm.cdf(d1) - K * np.exp(-r * T) * norm.cdf(d2)\n",
        "    elif option_type == 'put':\n",
        "        option_price = K * np.exp(-r * T) * norm.cdf(-d2) - S * norm.cdf(-d1)\n",
        "    else:\n",
        "        raise ValueError(\"Invalid option type. Must be either 'call' or 'put'.\")\n",
        "\n",
        "    return option_price\n",
        "\n",
        "# Example usage\n",
        "S = 100 # Current stock price\n",
        "K = 105 # Strike price\n",
        "T = 0.5 # Time to expiration (in years)\n",
        "r = 0.05 # Risk-free rate\n",
        "sigma = 0.2 # Volatility of the stock\n",
        "\n",
        "call_price = black_scholes(S, K, T, r, sigma, option_type='call')\n",
        "put_price = black_scholes(S, K, T, r, sigma, option_type='put')\n",
        "\n",
        "print(\"Call Option Price: $\", round(call_price, 2))\n",
        "print(\"Put Option Price: $\", round(put_price, 2))\n"
      ]
    },
    {
      "cell_type": "markdown",
      "source": [
        "In this example, we define a `black_scholes()` function that takes in the parameters required for the Black-Scholes model, including the current stock price (`S`), strike price (`K`), time to expiration (`T`), risk-free rate (`r`), volatility (`sigma`), and option type ('call' or 'put'). The function then calculates the option price using the Black-Scholes formula, which involves computing d1 and d2 as per the standard Black-Scholes equations, and then using these values to calculate the call or put option price using the cumulative distribution function (CDF) of the standard normal distribution (`norm.cdf()` function from `scipy.stats.norm` module).\n",
        "\n",
        "Please note that this is a simple implementation and may not account for all the nuances and complexities of option pricing in real-world scenarios. It's always recommended to use tested and validated libraries or consult with a qualified financial professional for accurate and reliable risk estimation."
      ],
      "metadata": {
        "id": "uyKwuSCPgipQ"
      }
    },
    {
      "cell_type": "markdown",
      "source": [
        "The Black-Scholes model, also known as the Black-Scholes-Merton model, is a mathematical model used to estimate the theoretical price of European-style stock options. It was developed by Fischer Black, Myron Scholes, and Robert Merton in the early 1970s and has become one of the most widely used models in option pricing and risk management.\n",
        "\n",
        "The Black-Scholes model makes several assumptions:\n",
        "\n",
        "1. European-style options: The model is designed to value European-style options, which can only be exercised at the expiration date.\n",
        "\n",
        "2. No dividends: The model assumes that the underlying stock does not pay any dividends during the option's lifespan.\n",
        "\n",
        "3. Efficient markets: The model assumes that markets are efficient, meaning that stock prices follow a random walk and are normally distributed.\n",
        "\n",
        "4. Constant risk-free rate: The model assumes that the risk-free interest rate is constant over the option's lifespan.\n",
        "\n",
        "5. Log-normal distribution of stock prices: The model assumes that stock prices follow a log-normal distribution, meaning that stock price changes are normally distributed on a logarithmic scale.\n",
        "\n",
        "The Black-Scholes model uses five main inputs to estimate the price of an option:\n",
        "\n",
        "1. Current stock price (S): The current market price of the underlying stock.\n",
        "\n",
        "2. Strike price (K): The pre-determined price at which the option can be exercised.\n",
        "\n",
        "3. Time to expiration (T): The time remaining until the option's expiration, typically measured in years.\n",
        "\n",
        "4. Risk-free rate (r): The current risk-free interest rate, typically based on a short-term government bond rate.\n",
        "\n",
        "5. Volatility (σ): The measure of the stock's historical or expected future price volatility.\n",
        "\n",
        "The Black-Scholes model calculates the price of a call option and a put option using the following formulas:\n",
        "\n",
        "Call option price (C):\n",
        "\n",
        "`C = S * N(d1) - K * e^(-r * T) * N(d2)`\n",
        "\n",
        "Put option price (P):\n",
        "\n",
        "`P = K * e^(-r * T) * N(-d2) - S * N(-d1)`\n",
        "\n",
        "where:\n",
        "\n",
        "* `N()` is the cumulative distribution function (CDF) of the standard normal distribution.\n",
        "* `d1` is calculated as `(ln(S/K) + (r + (σ^2)/2) * T) / (σ * sqrt(T))`.\n",
        "* `d2` is calculated as `d1 - σ * sqrt(T)`.\n",
        "\n",
        "The Black-Scholes model is widely used for option pricing, risk management, and derivatives trading. However, it has certain limitations, such as assuming constant parameters, efficient markets, and no transaction costs, which may not always reflect real-world conditions accurately. It's important to understand these assumptions and limitations when using the Black-Scholes model for risk estimation in practice."
      ],
      "metadata": {
        "id": "lH_wzmYdhM7V"
      }
    },
    {
      "cell_type": "markdown",
      "source": [
        "The Black-Scholes model is used in risk management primarily for estimating the value of options and derivatives, which allows market participants to assess and manage the risks associated with these financial instruments. Here are some specific ways in which the Black-Scholes model is used in risk management:\n",
        "\n",
        "* Option valuation: The Black-Scholes model is used to estimate the fair value of options, both call options and put options, based on the inputs of the current stock price, strike price, time to expiration, risk-free rate, and volatility. This valuation helps traders and investors to determine the appropriate prices for buying or selling options and manage their exposure to price fluctuations.\n",
        "\n",
        "* Portfolio risk assessment: The Black-Scholes model can be used to assess the risk of an entire portfolio that includes options or other derivatives. By valuing the options in the portfolio using the Black-Scholes model, risk managers can assess the overall risk exposure of the portfolio and make informed decisions about risk mitigation strategies.\n",
        "\n",
        "* Risk hedging: The Black-Scholes model can be used to identify and implement appropriate risk hedging strategies. For example, if an investor holds a long position in an option, the Black-Scholes model can help determine the optimal amount of the underlying asset to hold in order to hedge against potential price changes. This can be particularly useful for managing risks associated with options that are part of a larger investment portfolio.\n",
        "\n",
        "* Risk monitoring: The Black-Scholes model can be used to monitor the value of options and derivatives in real-time, allowing risk managers to track changes in their portfolio's risk exposure and take necessary actions to manage risks. This can include adjusting positions, rebalancing portfolios, or implementing risk mitigation strategies based on changes in the Black-Scholes model-derived option values.\n",
        "\n",
        "* Scenario analysis: The Black-Scholes model can be used to perform scenario analysis, which involves assessing the potential impact of different market scenarios on the value of options and derivatives. This allows risk managers to better understand the sensitivity of their portfolio to various market conditions and evaluate the effectiveness of different risk management strategies under different scenarios.\n",
        "\n",
        "*Again:* It's important to note that while the Black-Scholes model is a widely used tool for risk management, it has certain limitations and assumptions, such as assuming constant parameters, efficient markets, and no transaction costs, which may not always reflect real-world conditions accurately. Therefore, it's important to use the Black-Scholes model in conjunction with other risk management techniques and consider its limitations when making risk management decisions.\n",
        "\n",
        "\n",
        "\n",
        "\n"
      ],
      "metadata": {
        "id": "E7esspJ7iCd0"
      }
    },
    {
      "cell_type": "markdown",
      "source": [
        "### Copula Models"
      ],
      "metadata": {
        "id": "RLMv3tgIiaAs"
      }
    },
    {
      "cell_type": "code",
      "source": [
        "!pip install copulas"
      ],
      "metadata": {
        "id": "1uB93iwyiih8"
      },
      "execution_count": null,
      "outputs": []
    },
    {
      "cell_type": "code",
      "source": [
        "import numpy as np\n",
        "import pandas as pd\n",
        "from copulas.multivariate import GaussianMultivariate\n",
        "import yfinance as yf\n",
        "\n",
        "# Define tickers and download data from Yahoo Finance\n",
        "tickers = ['AAPL', 'GOOGL']\n",
        "start_date = '2015-01-01'\n",
        "end_date = '2022-12-31'\n",
        "data = yf.download(tickers, start=start_date, end=end_date)['Adj Close']\n",
        "\n",
        "# Calculate daily returns\n",
        "returns = data.pct_change().dropna()\n",
        "\n",
        "# Create copula model\n",
        "copula_model = GaussianMultivariate()\n",
        "copula_model.fit(returns)\n",
        "\n",
        "# Access correlation matrix from copula model\n",
        "correlation_matrix = copula_model.covariance\n",
        "\n",
        "# Generate correlated data from copula model\n",
        "n_simulations = 1000\n",
        "simulated_joint_distribution = copula_model.sample(n_simulations).T  # Transpose the array\n",
        "\n",
        "# Perform Monte Carlo simulation for risk estimation\n",
        "n_simulations = 10000\n",
        "risk_factor1 = np.random.normal(size=n_simulations)\n",
        "risk_factor2 = np.random.normal(size=n_simulations)\n",
        "\n",
        "# Simulate joint distribution using copula\n",
        "simulated_joint_distribution = copula_model.sample(n_simulations).T  # Transpose the array\n",
        "\n",
        "# Compute risk metrics using simulated joint distribution\n",
        "portfolio_value = np.sum(simulated_joint_distribution * np.array([risk_factor1, risk_factor2]), axis=0)\n",
        "portfolio_return = np.diff(portfolio_value) / portfolio_value[:-1]\n",
        "portfolio_mean_return = np.mean(portfolio_return)\n",
        "portfolio_volatility = np.std(portfolio_return)\n",
        "portfolio_value_at_risk = np.percentile(portfolio_value, 5)\n",
        "\n",
        "print(\"Correlation Matrix: \\n\", correlation_matrix)\n",
        "print(\"Portfolio Mean Return: \", portfolio_mean_return)\n",
        "print(\"Portfolio Volatility: \", portfolio_volatility)\n",
        "print(\"Portfolio Value at Risk (VaR): \", portfolio_value_at_risk)\n",
        "\n"
      ],
      "metadata": {
        "colab": {
          "base_uri": "https://localhost:8080/"
        },
        "id": "ByY7egU3icTo",
        "outputId": "01fa6916-bca1-44ca-f765-4eb805232e09"
      },
      "execution_count": 40,
      "outputs": [
        {
          "output_type": "stream",
          "name": "stdout",
          "text": [
            "[*********************100%***********************]  2 of 2 completed\n"
          ]
        },
        {
          "output_type": "stream",
          "name": "stderr",
          "text": [
            "/usr/local/lib/python3.9/dist-packages/scipy/optimize/_minpack_py.py:178: RuntimeWarning: The iteration is not making good progress, as measured by the \n",
            "  improvement from the last ten iterations.\n",
            "  warnings.warn(msg, RuntimeWarning)\n",
            "/usr/local/lib/python3.9/dist-packages/scipy/stats/_continuous_distns.py:5574: RuntimeWarning: divide by zero encountered in true_divide\n",
            "  return c**2 / (c**2 - n**2)\n",
            "/usr/local/lib/python3.9/dist-packages/scipy/stats/_distn_infrastructure.py:2789: RuntimeWarning: invalid value encountered in double_scalars\n",
            "  Lhat = muhat - Shat*mu\n",
            "/usr/local/lib/python3.9/dist-packages/copulas/univariate/truncated_gaussian.py:45: RuntimeWarning: divide by zero encountered in double_scalars\n",
            "  a = (self.min - loc) / scale\n",
            "/usr/local/lib/python3.9/dist-packages/copulas/univariate/truncated_gaussian.py:46: RuntimeWarning: divide by zero encountered in double_scalars\n",
            "  b = (self.max - loc) / scale\n",
            "/usr/local/lib/python3.9/dist-packages/scipy/stats/_continuous_distns.py:709: RuntimeWarning: invalid value encountered in sqrt\n",
            "  sk = 2*(b-a)*np.sqrt(a + b + 1) / (a + b + 2) / np.sqrt(a*b)\n"
          ]
        },
        {
          "output_type": "stream",
          "name": "stdout",
          "text": [
            "Correlation Matrix: \n",
            "            AAPL     GOOGL\n",
            "AAPL   1.000000  0.642056\n",
            "GOOGL  0.642056  1.000000\n",
            "Portfolio Mean Return:  1.3466409631883682\n",
            "Portfolio Volatility:  213.6871650078164\n",
            "Portfolio Value at Risk (VaR):  -0.03652854225926003\n"
          ]
        }
      ]
    },
    {
      "cell_type": "markdown",
      "source": [
        "**Description of the steps:**\n",
        "\n",
        "1. Import necessary libraries: The code imports the required libraries including `numpy` for numerical computing, `pandas` for data manipulation, `copulas` for copula modeling, and `yfinance` for downloading financial data from Yahoo Finance.\n",
        "\n",
        "2. Define tickers and download data: The code defines a list of tickers (AAPL and GOOGL) and downloads the adjusted closing prices of these stocks from Yahoo Finance for a specified time period (`start_date` to `end_date`).\n",
        "\n",
        "3. Calculate daily returns: The code calculates the daily returns of the downloaded stock data using the `pct_change()` function provided by Pandas, and stores the result in a variable called returns.\n",
        "\n",
        "4. Create copula model: The code creates an instance of the `GaussianMultivariate` copula model from the copulas library, which is a multivariate Gaussian copula for modeling joint distributions of multiple variables. Then, it fits the copula model to the calculated returns using the `fit()` function.\n",
        "\n",
        "5. Access correlation matrix: The code accesses the estimated correlation matrix of the copula model using the covariance attribute, which represents the covariance matrix.\n",
        "\n",
        "6. Generate correlated data from copula model: The code generates correlated data from the copula model using the `sample()` function with a specified number of simulations (`n_simulations`). The resulting joint distribution is stored in the `simulated_joint_distribution` variable after transposing the array to match the shape of the risk factor arrays.\n",
        "\n",
        "7. Perform Monte Carlo simulation for risk estimation: The code generates two arrays of random numbers from a normal distribution using `np.random.normal()` to simulate the risk factors (`risk_factor1` and `risk_factor2`) for each simulation.\n",
        "\n",
        "8. Compute risk metrics: The code computes various risk metrics using the simulated joint distribution and the risk factor arrays. It calculates the portfolio value, portfolio return, portfolio mean return, portfolio volatility, and portfolio value at risk (VaR) using numpy functions such as `sum()`, `diff()`, `mean()`, `std()`, and `percentile()`.\n",
        "\n",
        "9. Print results: The code prints the correlation matrix, portfolio mean return, portfolio volatility, and portfolio value at risk (VaR) as the final output."
      ],
      "metadata": {
        "id": "FkFkcvSUxRS3"
      }
    },
    {
      "cell_type": "markdown",
      "source": [
        "Copula models are statistical models used to describe the dependence structure between multiple random variables. Copulas are functions that link marginal distributions of individual variables to their joint distribution. They are used in various fields, including finance, insurance, risk management, and multivariate data analysis.\n",
        "\n",
        "In the context of finance, copula models are commonly used for risk management, portfolio optimization, and pricing of complex financial instruments. They provide a flexible way to model the dependence structure between multiple financial assets, accounting for both linear and nonlinear dependencies, and allowing for capturing tail dependence (i.e., dependence in extreme events).\n",
        "\n",
        "A copula is defined as a multivariate distribution function with uniform marginals, meaning that each marginal distribution is transformed to a uniform distribution over the interval [0,1]. Copulas allow for separating the modeling of the marginal distributions from the modeling of the dependence structure. This makes copula models particularly useful when dealing with data that exhibit different marginal distributions, as it allows for modeling the dependence structure independently.\n",
        "\n",
        "There are various types of copula families that can be used, such as Gaussian (also known as normal), t-Student, Clayton, Gumbel, Frank, and more. Each copula family has its own characteristics and is suited for different types of dependence patterns. For example, Gaussian copulas are often used for modeling linear dependencies, while Archimedean copulas (e.g., Clayton, Gumbel) are useful for capturing tail dependence.\n",
        "\n",
        "The steps to use a copula model typically involve:\n",
        "\n",
        "1. Data preprocessing: Transforming the marginal distributions of the variables of interest to uniform distributions.\n",
        "2. Copula modeling: Selecting an appropriate copula family and estimating its parameters using the transformed data.\n",
        "3. Dependence analysis: Assessing the strength and direction of dependence between variables using measures such as Kendall's tau, Spearman's rank correlation coefficient, or Pearson's correlation coefficient.\n",
        "4. Risk estimation: Using the copula model to generate correlated data for Monte Carlo simulations or other risk estimation techniques.\n",
        "5. Model validation: Assessing the goodness-of-fit of the copula model to the data and conducting sensitivity analysis to assess the robustness of the results.\n",
        "\n",
        "Copula models provide a powerful tool for modeling and managing risk in complex systems where the dependence structure between variables is important. However, it's crucial to use them appropriately and validate the model assumptions and results carefully to ensure their accuracy and reliability in real-world applications."
      ],
      "metadata": {
        "id": "Bk5RMKyBkHTK"
      }
    }
  ]
}