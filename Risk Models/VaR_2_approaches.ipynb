{
  "nbformat": 4,
  "nbformat_minor": 0,
  "metadata": {
    "colab": {
      "provenance": []
    },
    "kernelspec": {
      "name": "python3",
      "display_name": "Python 3"
    },
    "language_info": {
      "name": "python"
    }
  },
  "cells": [
    {
      "cell_type": "markdown",
      "source": [
        "# Value at Risk (VaR)\n",
        "\n",
        "Part 2"
      ],
      "metadata": {
        "id": "FfnogAegJyMf"
      }
    },
    {
      "cell_type": "markdown",
      "source": [
        "### VaR calculation using Variance-Covariance approach\n"
      ],
      "metadata": {
        "id": "fKKsJIzmKEHR"
      }
    },
    {
      "cell_type": "code",
      "execution_count": 2,
      "metadata": {
        "colab": {
          "base_uri": "https://localhost:8080/",
          "height": 448
        },
        "id": "tZG2CSumJxJF",
        "outputId": "779d2e01-0c23-4073-ebf3-43bfcdc59c53"
      },
      "outputs": [
        {
          "output_type": "stream",
          "name": "stdout",
          "text": [
            "\r[*********************100%***********************]  1 of 1 completed\n"
          ]
        },
        {
          "output_type": "display_data",
          "data": {
            "text/plain": [
              "<Figure size 640x480 with 1 Axes>"
            ],
            "image/png": "[encoded data removed]"
          },
          "metadata": {}
        }
      ],
      "source": [
        "# Libraries\n",
        "import numpy as np\n",
        "import pandas as pd\n",
        "import yfinance as yf\n",
        "from tabulate import tabulate\n",
        "import scipy\n",
        "\n",
        "# Plots\n",
        "import matplotlib.pyplot as plt\n",
        "import seaborn\n",
        "import matplotlib.mlab as mlab\n",
        "\n",
        "#Statistical calculation\n",
        "from scipy.stats import norm\n",
        "\n",
        "# For warnings\n",
        "import warnings\n",
        "warnings.filterwarnings(\"ignore\")\n",
        "\n",
        "# We  import the daily data of META from yahoo finance\n",
        "# Calculate daily returns\n",
        "df = yf.download(\"META\", \"2021-01-01\", \"2023-04-04\")\n",
        "df = df[['Close']]\n",
        "df['returns'] = df.Close.pct_change()\n",
        "\n",
        "\n",
        "# Now we determine the mean and standard deviation of the daily returns \n",
        "# Plot the normal curve against the daily returns\n",
        "\n",
        "mean = np.mean(df['returns'])\n",
        "std_dev = np.std(df['returns'])\n",
        "\n",
        "df['returns'].hist(bins=40, density=True, histtype='stepfilled', alpha=0.5)\n",
        "\n",
        "x = np.linspace(mean - 3*std_dev, mean + 3*std_dev, 100)\n",
        "plt.plot(x, scipy.stats.norm.pdf(x, mean, std_dev), \"r\")\n",
        "plt.show()"
      ]
    },
    {
      "cell_type": "markdown",
      "source": [
        "Now, we will use confidence level, mean and standard deviation\n",
        "\n"
      ],
      "metadata": {
        "id": "tlskcxD6K0pF"
      }
    },
    {
      "cell_type": "code",
      "source": [
        "#Calculate VaR using point percentile function\n",
        "VaR_95 = norm.ppf(0.05, mean, std_dev)\n",
        "VaR_99 = norm.ppf(0.01, mean, std_dev)\n",
        "print (tabulate([['95%', VaR_95], ['99%', VaR_99]], headers = ['Confidence Level', 'Value at Risk']))\n"
      ],
      "metadata": {
        "colab": {
          "base_uri": "https://localhost:8080/"
        },
        "id": "R9nqDx8iK2h7",
        "outputId": "d06909e5-8381-48a6-fd1a-304aba54dd7d"
      },
      "execution_count": 3,
      "outputs": [
        {
          "output_type": "stream",
          "name": "stdout",
          "text": [
            "Confidence Level      Value at Risk\n",
            "------------------  ---------------\n",
            "95%                      -0.0529338\n",
            "99%                      -0.0749165\n"
          ]
        }
      ]
    },
    {
      "cell_type": "markdown",
      "source": [
        "The above values denote the level of confidence in a particular \"value\" that is at risk of loss.\n",
        "\n",
        "Consequently, there is a 95% confidence that the loss of value could be -0.0529338 or less, and a 99% confidence that the loss would be -0.0749165 or less. Because all of the values at risk are negative, there is a higher probability that the portfolio will return more than the amount invested."
      ],
      "metadata": {
        "id": "d8p4hmmnLFfx"
      }
    },
    {
      "cell_type": "markdown",
      "source": [
        "### VaR calculation using the Historical Simulation approach"
      ],
      "metadata": {
        "id": "822TBcBmLwSi"
      }
    },
    {
      "cell_type": "code",
      "source": [
        "# libraries\n",
        "import numpy as np\n",
        "import pandas as pd\n",
        "import yfinance as yf\n",
        "from tabulate import tabulate\n",
        "\n",
        "# plots\n",
        "import matplotlib.pyplot as plt\n",
        "import seaborn\n",
        "import matplotlib.mlab as mlab\n",
        "\n",
        "#  warnings (no)\n",
        "import warnings\n",
        "warnings.filterwarnings(\"ignore\")\n",
        "\n",
        "# Calculate the daily returns and plot\n",
        "df = yf.download(\"META\", \"2021-01-01\", \"2023-04-04\")\n",
        "df = df[['Close']]\n",
        "df['returns'] = df.Close.pct_change()\n",
        "df = df.dropna()\n",
        "plt.hist(df.returns, bins=40)\n",
        "plt.xlabel('Returns')\n",
        "plt.ylabel('Frequency')\n",
        "plt.grid(True)\n",
        "plt.show()"
      ],
      "metadata": {
        "colab": {
          "base_uri": "https://localhost:8080/",
          "height": 467
        },
        "id": "4TkDBzWVLyLf",
        "outputId": "34696de4-2992-4aac-d016-731e080f5838"
      },
      "execution_count": 4,
      "outputs": [
        {
          "output_type": "stream",
          "name": "stdout",
          "text": [
            "\r[*********************100%***********************]  1 of 1 completed\n"
          ]
        },
        {
          "output_type": "display_data",
          "data": {
            "text/plain": [
              "<Figure size 640x480 with 1 Axes>"
            ],
            "image/png": "[encoded data removed]"
          },
          "metadata": {}
        }
      ]
    },
    {
      "cell_type": "code",
      "source": [
        "# Calculate the VaR \n",
        "VaR_90 = df['returns'].quantile(0.1)\n",
        "VaR_95 = df['returns'].quantile(0.05)\n",
        "VaR_99 = df['returns'].quantile(0.01)\n",
        "\n",
        "print (tabulate([['90%', VaR_90], ['95%', VaR_95], ['99%', VaR_99]], headers = ['Confidence Level', 'Value at Risk']))"
      ],
      "metadata": {
        "colab": {
          "base_uri": "https://localhost:8080/"
        },
        "id": "3k4QTP5qMIbc",
        "outputId": "8d90f0d1-192d-4f2c-eed2-227c94c11ad3"
      },
      "execution_count": 5,
      "outputs": [
        {
          "output_type": "stream",
          "name": "stdout",
          "text": [
            "Confidence Level      Value at Risk\n",
            "------------------  ---------------\n",
            "90%                      -0.0336745\n",
            "95%                      -0.0427361\n",
            "99%                      -0.0707592\n"
          ]
        }
      ]
    },
    {
      "cell_type": "markdown",
      "source": [
        "The confidence rate is 90% that the loss may be -0.0336745 and not above.\n",
        "Similarly for 95% and 99%."
      ],
      "metadata": {
        "id": "WnGnrT7wMV5p"
      }
    },
    {
      "cell_type": "markdown",
      "source": [
        "From the above calculation we can see that there is a difference in the percentage of value-at-risk calculated on the basis of historical modeling and the variance-covariance approach. This tells us that the distribution of returns is not totally normal (it seems to be close to normal).\n",
        "\n",
        "Although both approaches return negative values (indicating a higher probability of higher returns), there is still a difference in the numbers of values, which tells us that the distribution is not exactly normal."
      ],
      "metadata": {
        "id": "lPS_2TIFMa4C"
      }
    }
  ]
}