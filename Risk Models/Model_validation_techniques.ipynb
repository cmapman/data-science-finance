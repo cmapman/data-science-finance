{
  "nbformat": 4,
  "nbformat_minor": 0,
  "metadata": {
    "colab": {
      "provenance": []
    },
    "kernelspec": {
      "name": "python3",
      "display_name": "Python 3"
    },
    "language_info": {
      "name": "python"
    }
  },
  "cells": [
    {
      "cell_type": "markdown",
      "source": [
        "# Model validation techniques"
      ],
      "metadata": {
        "id": "4FSBtBbgIuZm"
      }
    },
    {
      "cell_type": "markdown",
      "source": [
        "Here is a list of model validation techniques commonly used in machine learning:\n",
        "\n",
        "* Holdout Validation: The dataset is divided into a training set and a validation set. The model is trained on the training set and evaluated on the validation set.\n",
        "\n",
        "* Cross-Validation: The dataset is divided into k equally sized folds. The model is trained k times, each time using k-1 folds for training and 1 fold for validation. The average performance across all folds is used as the final evaluation.\n",
        "\n",
        "* Stratified Sampling: Similar to cross-validation, but ensures that each fold has a proportional representation of different classes, particularly useful for imbalanced datasets.\n",
        "\n",
        "* Leave-One-Out Cross-Validation (LOOCV): A special case of cross-validation where k is set to the number of samples in the dataset. The model is trained on all samples except one, which is used for validation. This process is repeated for each sample in the dataset.\n",
        "\n",
        "* Time Series Cross-Validation: Specifically used for time series data, where the dataset is divided into multiple folds while preserving the temporal order. The model is trained on past data and validated on future data.\n",
        "\n",
        "* Bootstrap Validation: Random subsets (with replacement) of the dataset are created, and the model is trained and evaluated on these subsets. This technique is particularly useful for small datasets.\n",
        "\n",
        "* Nested Cross-Validation: Combines cross-validation for model selection with another cross-validation for model evaluation. The outer loop performs model selection, while the inner loop performs model evaluation.\n",
        "\n",
        "* Randomized Search Cross-Validation: Used for hyperparameter tuning, where the hyperparameters of the model are randomly sampled from a predefined search space during cross-validation.\n",
        "\n",
        "* Hold-One-Out Validation: Similar to LOOCV, but only one sample is held out for validation, and the rest of the samples are used for training.\n",
        "\n",
        "* Validation Curve: A technique that plots the model's performance against a range of hyperparameter values to identify the optimal hyperparameter values.\n",
        "\n",
        "These are some commonly used model validation techniques in machine learning. The choice of technique depends on the specific problem, dataset, and model requirements. It's important to carefully select the appropriate validation technique to obtain reliable performance estimates for machine learning models."
      ],
      "metadata": {
        "id": "FWHVzfCXI5jr"
      }
    },
    {
      "cell_type": "markdown",
      "source": [
        "Here's an example of how we can implement various model validation techniques using Python and `scikit-learn`:"
      ],
      "metadata": {
        "id": "rveW6I7lJCjq"
      }
    },
    {
      "cell_type": "code",
      "execution_count": 1,
      "metadata": {
        "colab": {
          "base_uri": "https://localhost:8080/"
        },
        "id": "KHDuodyuIqDU",
        "outputId": "3fa45241-d344-40e7-f556-80a087bc4313"
      },
      "outputs": [
        {
          "output_type": "stream",
          "name": "stdout",
          "text": [
            "Holdout Validation Accuracy: 1.0\n",
            "Cross-Validation Scores: [1. 1. 1. 1. 1.]\n",
            "Average Cross-Validation Accuracy: 1.0\n",
            "Stratified Sampling Scores: [1.   0.95 1.   1.   1.  ]\n",
            "Average Stratified Sampling Accuracy: 0.99\n",
            "Leave-One-Out Cross-Validation Scores: [1. 1. 1. 1. 1. 1. 1. 1. 1. 1. 1. 1. 1. 0. 1. 1. 1. 1. 1. 1. 1. 1. 1. 1.\n",
            " 1. 1. 1. 1. 1. 1. 1. 1. 1. 1. 1. 1. 1. 1. 1. 1. 1. 1. 1. 1. 1. 1. 1. 1.\n",
            " 1. 1. 1. 1. 1. 1. 1. 1. 1. 1. 1. 1. 1. 1. 1. 1. 1. 1. 1. 1. 1. 1. 1. 1.\n",
            " 1. 1. 1. 1. 1. 1. 1. 1. 1. 1. 1. 1. 1. 1. 1. 1. 1. 1. 1. 1. 1. 1. 1. 1.\n",
            " 1. 1. 1. 1.]\n",
            "Average Leave-One-Out Cross-Validation Accuracy: 0.99\n",
            "Time Series Cross-Validation Scores: [1. 1. 1. 1. 1.]\n",
            "Average Time Series Cross-Validation Accuracy: 1.0\n",
            "Bootstrap Validation Scores: [1.0, 1.0, 1.0, 1.0, 1.0, 1.0, 1.0, 1.0, 1.0, 1.0, 1.0, 1.0, 1.0, 1.0, 1.0, 1.0, 1.0, 1.0, 1.0, 1.0, 1.0, 1.0, 1.0, 1.0, 1.0, 1.0, 1.0, 1.0, 1.0, 1.0, 1.0, 1.0, 1.0, 1.0, 1.0, 1.0, 1.0, 1.0, 1.0, 1.0, 1.0, 1.0, 1.0, 1.0, 1.0, 1.0, 1.0, 1.0, 1.0, 1.0, 1.0, 1.0, 1.0, 1.0, 1.0, 1.0, 1.0, 1.0, 1.0, 1.0, 1.0, 1.0, 1.0, 1.0, 1.0, 1.0, 1.0, 1.0, 1.0, 1.0, 1.0, 1.0, 1.0, 1.0, 1.0, 1.0, 1.0, 1.0, 1.0, 1.0, 1.0, 1.0, 1.0, 1.0, 1.0, 1.0, 1.0, 1.0, 1.0, 1.0, 1.0, 1.0, 1.0, 1.0, 1.0, 1.0, 1.0, 1.0, 1.0, 1.0]\n",
            "Average Bootstrap Validation Accuracy: 1.0\n"
          ]
        },
        {
          "output_type": "stream",
          "name": "stderr",
          "text": [
            "/usr/local/lib/python3.9/dist-packages/sklearn/model_selection/_search.py:305: UserWarning: The total space of parameters 3 is smaller than n_iter=10. Running 3 iterations. For exhaustive searches, use GridSearchCV.\n",
            "  warnings.warn(\n",
            "/usr/local/lib/python3.9/dist-packages/sklearn/model_selection/_search.py:305: UserWarning: The total space of parameters 3 is smaller than n_iter=10. Running 3 iterations. For exhaustive searches, use GridSearchCV.\n",
            "  warnings.warn(\n",
            "/usr/local/lib/python3.9/dist-packages/sklearn/model_selection/_search.py:305: UserWarning: The total space of parameters 3 is smaller than n_iter=10. Running 3 iterations. For exhaustive searches, use GridSearchCV.\n",
            "  warnings.warn(\n",
            "/usr/local/lib/python3.9/dist-packages/sklearn/model_selection/_search.py:305: UserWarning: The total space of parameters 3 is smaller than n_iter=10. Running 3 iterations. For exhaustive searches, use GridSearchCV.\n",
            "  warnings.warn(\n",
            "/usr/local/lib/python3.9/dist-packages/sklearn/model_selection/_search.py:305: UserWarning: The total space of parameters 3 is smaller than n_iter=10. Running 3 iterations. For exhaustive searches, use GridSearchCV.\n",
            "  warnings.warn(\n"
          ]
        },
        {
          "output_type": "stream",
          "name": "stdout",
          "text": [
            "Nested Cross-Validation Scores: [1.   1.   0.95 1.   1.  ]\n",
            "Average Nested Cross-Validation Accuracy: 0.99\n",
            "Best hyperparameters found by Randomized Search CV: {'C': 1}\n",
            "Best Cross-Validation Accuracy found by Randomized Search CV: 1.0\n"
          ]
        }
      ],
      "source": [
        "import numpy as np\n",
        "from sklearn.model_selection import train_test_split\n",
        "from sklearn.model_selection import cross_val_score, StratifiedKFold, TimeSeriesSplit\n",
        "from sklearn.model_selection import LeaveOneOut, KFold, RandomizedSearchCV\n",
        "from sklearn.datasets import make_classification\n",
        "from sklearn.linear_model import LogisticRegression\n",
        "from sklearn.metrics import accuracy_score\n",
        "\n",
        "# Generate synthetic dataset\n",
        "X, y = make_classification(n_samples=100, n_features=5, random_state=42)\n",
        "\n",
        "# Holdout Validation\n",
        "X_train, X_val, y_train, y_val = train_test_split(X, y, test_size=0.2, random_state=42)\n",
        "model = LogisticRegression()\n",
        "model.fit(X_train, y_train)\n",
        "y_pred_val = model.predict(X_val)\n",
        "val_accuracy = accuracy_score(y_val, y_pred_val)\n",
        "print(\"Holdout Validation Accuracy:\", val_accuracy)\n",
        "\n",
        "# Cross-Validation\n",
        "cv_scores = cross_val_score(model, X, y, cv=5) # 5-fold Cross-Validation\n",
        "print(\"Cross-Validation Scores:\", cv_scores)\n",
        "print(\"Average Cross-Validation Accuracy:\", np.mean(cv_scores))\n",
        "\n",
        "# Stratified Sampling\n",
        "skf = StratifiedKFold(n_splits=5, random_state=42, shuffle=True)\n",
        "cv_scores_stratified = cross_val_score(model, X, y, cv=skf)\n",
        "print(\"Stratified Sampling Scores:\", cv_scores_stratified)\n",
        "print(\"Average Stratified Sampling Accuracy:\", np.mean(cv_scores_stratified))\n",
        "\n",
        "# Leave-One-Out Cross-Validation\n",
        "loo = LeaveOneOut()\n",
        "cv_scores_loo = cross_val_score(model, X, y, cv=loo)\n",
        "print(\"Leave-One-Out Cross-Validation Scores:\", cv_scores_loo)\n",
        "print(\"Average Leave-One-Out Cross-Validation Accuracy:\", np.mean(cv_scores_loo))\n",
        "\n",
        "# Time Series Cross-Validation\n",
        "tscv = TimeSeriesSplit(n_splits=5)\n",
        "cv_scores_time_series = cross_val_score(model, X, y, cv=tscv)\n",
        "print(\"Time Series Cross-Validation Scores:\", cv_scores_time_series)\n",
        "print(\"Average Time Series Cross-Validation Accuracy:\", np.mean(cv_scores_time_series))\n",
        "\n",
        "# Bootstrap Validation\n",
        "from sklearn.utils import resample\n",
        "\n",
        "n_iterations = 100\n",
        "bootstrap_scores = []\n",
        "for _ in range(n_iterations):\n",
        "    X_bootstrap, y_bootstrap = resample(X, y, random_state=np.random.randint(0, 100))\n",
        "    model.fit(X_bootstrap, y_bootstrap)\n",
        "    y_pred_bootstrap = model.predict(X_val)\n",
        "    bootstrap_scores.append(accuracy_score(y_val, y_pred_bootstrap))\n",
        "print(\"Bootstrap Validation Scores:\", bootstrap_scores)\n",
        "print(\"Average Bootstrap Validation Accuracy:\", np.mean(bootstrap_scores))\n",
        "\n",
        "# Nested Cross-Validation\n",
        "param_dist = {'C': [0.1, 1, 10]}\n",
        "inner_cv = KFold(n_splits=5, shuffle=True, random_state=42)\n",
        "outer_cv = KFold(n_splits=5, shuffle=True, random_state=42)\n",
        "model = LogisticRegression()\n",
        "grid_search = RandomizedSearchCV(model, param_distributions=param_dist, cv=inner_cv)\n",
        "nested_scores = cross_val_score(grid_search, X, y, cv=outer_cv)\n",
        "print(\"Nested Cross-Validation Scores:\", nested_scores)\n",
        "print(\"Average Nested Cross-Validation Accuracy:\", np.mean(nested_scores))\n",
        "\n",
        "# Randomized Search Cross-Validation\n",
        "param_dist = {'C': [0.1, 1, 10]}\n",
        "random_search = RandomizedSearchCV(model, param_distributions=param_dist, cv=5, n_iter=3)\n",
        "random_search.fit(X, y)\n",
        "print(\"Best hyperparameters found by Randomized Search CV:\", random_search.best_params_)\n",
        "print(\"Best Cross-Validation Accuracy found by Randomized Search CV:\", random_search.best_score_)\n"
      ]
    },
    {
      "cell_type": "markdown",
      "source": [
        "\n",
        "Note: This code demonstrates how to use various model validation techniques in scikit-learn, including Holdout Validation, Cross-Validation, Stratified Sampling, Leave-One-Out Cross-Validation, Time Series Cross-Validation, Bootstrap Validation, Nested Cross-Validation, and Randomized Search Cross-Validation. Please refer to the scikit-learn documentation for detailed usage of these validation techniques and how to tune hyperparameters using Randomized Search CV or Grid Search CV.\n"
      ],
      "metadata": {
        "id": "VBf_33lfJY87"
      }
    },
    {
      "cell_type": "markdown",
      "source": [
        "Another example with Hold-One-Out Validation and Validation Curve:"
      ],
      "metadata": {
        "id": "vsVkXDclJ1Gz"
      }
    },
    {
      "cell_type": "code",
      "source": [
        "import numpy as np\n",
        "from sklearn.model_selection import train_test_split\n",
        "from sklearn.model_selection import cross_val_score, StratifiedKFold, TimeSeriesSplit\n",
        "from sklearn.model_selection import LeaveOneOut, KFold, RandomizedSearchCV, validation_curve\n",
        "from sklearn.datasets import make_classification\n",
        "from sklearn.linear_model import LogisticRegression\n",
        "from sklearn.metrics import accuracy_score\n",
        "import matplotlib.pyplot as plt\n",
        "\n",
        "# Generate synthetic dataset\n",
        "X, y = make_classification(n_samples=100, n_features=5, random_state=42)\n",
        "\n",
        "# Holdout Validation\n",
        "X_train, X_val, y_train, y_val = train_test_split(X, y, test_size=0.2, random_state=42)\n",
        "model = LogisticRegression()\n",
        "model.fit(X_train, y_train)\n",
        "y_pred_val = model.predict(X_val)\n",
        "val_accuracy = accuracy_score(y_val, y_pred_val)\n",
        "print(\"Holdout Validation Accuracy:\", val_accuracy)\n",
        "\n",
        "# Hold-One-Out Validation\n",
        "loo = LeaveOneOut()\n",
        "cv_scores_loo = cross_val_score(model, X, y, cv=loo)\n",
        "print(\"Hold-One-Out Cross-Validation Scores:\", cv_scores_loo)\n",
        "print(\"Average Hold-One-Out Cross-Validation Accuracy:\", np.mean(cv_scores_loo))\n",
        "\n",
        "# Validation Curve\n",
        "param_range = np.logspace(-3, 3, 7) # hyperparameter range to be tested\n",
        "train_scores, val_scores = validation_curve(model, X, y, param_name='C', param_range=param_range, cv=5)\n",
        "train_mean = np.mean(train_scores, axis=1)\n",
        "train_std = np.std(train_scores, axis=1)\n",
        "val_mean = np.mean(val_scores, axis=1)\n",
        "val_std = np.std(val_scores, axis=1)\n",
        "\n",
        "# Plot validation curve\n",
        "plt.figure(figsize=(10, 6))\n",
        "plt.plot(param_range, train_mean, label=\"Training Accuracy\")\n",
        "plt.fill_between(param_range, train_mean - train_std, train_mean + train_std, alpha=0.2)\n",
        "plt.plot(param_range, val_mean, label=\"Validation Accuracy\")\n",
        "plt.fill_between(param_range, val_mean - val_std, val_mean + val_std, alpha=0.2)\n",
        "plt.title(\"Validation Curve for Logistic Regression\")\n",
        "plt.xlabel(\"C (Inverse of Regularization Strength)\")\n",
        "plt.ylabel(\"Accuracy\")\n",
        "plt.legend()\n",
        "plt.grid(True)\n",
        "plt.show()"
      ],
      "metadata": {
        "colab": {
          "base_uri": "https://localhost:8080/",
          "height": 691
        },
        "id": "EVPvWTSQJ5Di",
        "outputId": "93a0f983-f267-461b-b8b6-1b3008a6d956"
      },
      "execution_count": 2,
      "outputs": [
        {
          "output_type": "stream",
          "name": "stdout",
          "text": [
            "Holdout Validation Accuracy: 1.0\n",
            "Hold-One-Out Cross-Validation Scores: [1. 1. 1. 1. 1. 1. 1. 1. 1. 1. 1. 1. 1. 0. 1. 1. 1. 1. 1. 1. 1. 1. 1. 1.\n",
            " 1. 1. 1. 1. 1. 1. 1. 1. 1. 1. 1. 1. 1. 1. 1. 1. 1. 1. 1. 1. 1. 1. 1. 1.\n",
            " 1. 1. 1. 1. 1. 1. 1. 1. 1. 1. 1. 1. 1. 1. 1. 1. 1. 1. 1. 1. 1. 1. 1. 1.\n",
            " 1. 1. 1. 1. 1. 1. 1. 1. 1. 1. 1. 1. 1. 1. 1. 1. 1. 1. 1. 1. 1. 1. 1. 1.\n",
            " 1. 1. 1. 1.]\n",
            "Average Hold-One-Out Cross-Validation Accuracy: 0.99\n"
          ]
        },
        {
          "output_type": "display_data",
          "data": {
            "text/plain": [
              "<Figure size 1000x600 with 1 Axes>"
            ],
            "image/png": "[encoded data removed]"
          },
          "metadata": {}
        }
      ]
    },
    {
      "cell_type": "markdown",
      "source": [
        "Hold-One-Out Validation is similar to Leave-One-Out Cross-Validation, but with a randomized sampling process that randomly holds out one sample as the validation set in each iteration. The code also shows how to create a validation curve to evaluate the model performance with different values of a hyperparameter (C in this case) using cross-validation. The validation curve is plotted to visualize the training and validation accuracy as the hyperparameter value changes, which can help in selecting the optimal hyperparameter value for the model."
      ],
      "metadata": {
        "id": "BJBFo5rhKPFp"
      }
    },
    {
      "cell_type": "markdown",
      "source": [
        "#### Some details about these techniques"
      ],
      "metadata": {
        "id": "lSr04iLnKaiq"
      }
    },
    {
      "cell_type": "markdown",
      "source": [
        "* Holdout Validation: This technique involves splitting the dataset into two parts - a training set and a validation set. The training set is used to train the model, and the validation set is used to evaluate its performance. Typically, a random portion of the dataset (e.g., 80%) is used for training, and the remaining portion (e.g., 20%) is used for validation.\n",
        "\n",
        "* Cross-Validation: Cross-validation is a resampling technique that involves partitioning the dataset into k equally sized folds. The model is then trained k times, each time using k-1 folds for training and 1 fold for validation. This process is repeated k times, with each fold being used as the validation set exactly once. The performance of the model is evaluated by averaging the results of these k iterations.\n",
        "\n",
        "* Stratified Sampling: Stratified sampling is a type of sampling technique used in cross-validation where the dataset is divided into k folds in a way that maintains the original class distribution. This ensures that each fold contains a representative sample of each class, which is particularly useful for imbalanced datasets where certain classes may be rare.\n",
        "\n",
        "* Leave-One-Out Cross-Validation: Leave-One-Out Cross-Validation (LOOCV) is a special case of k-fold cross-validation where k is set to the number of samples in the dataset. In other words, each sample is used as the validation set once, and the rest of the samples are used for training. LOOCV is computationally expensive as it requires training the model n times (where n is the number of samples), but it provides an unbiased estimate of model performance.\n",
        "\n",
        "* Time Series Cross-Validation: Time Series Cross-Validation is a specialized technique used for time series data where the dataset is divided into k folds based on the temporal order of the data. This ensures that the model is trained on past data and validated on future data, simulating the real-world scenario where the model is trained on historical data and tested on unseen data.\n",
        "\n",
        "* Bootstrap Validation: Bootstrap Validation is a resampling technique where multiple random samples (with replacement) are drawn from the original dataset to create a set of new datasets, and each of these datasets is used for training and validation. This technique can be useful for small datasets or when the original dataset is not representative of the underlying population.\n",
        "\n",
        "* Nested Cross-Validation: Nested Cross-Validation is a technique that combines both an inner loop and an outer loop of cross-validation. The inner loop is used for hyperparameter tuning, while the outer loop is used for model evaluation. The inner loop helps to prevent overfitting during hyperparameter tuning, as it evaluates different hyperparameter values on different validation sets.\n",
        "\n",
        "* Randomized Search Cross-Validation: Randomized Search Cross-Validation is a technique that combines random sampling with cross-validation for hyperparameter tuning. It randomly samples a set of hyperparameter values from predefined ranges and performs cross-validation with each set of hyperparameter values. This can be more efficient than Grid Search Cross-Validation, as it does not exhaustively search all possible combinations of hyperparameter values.\n",
        "\n",
        "* Hold-One-Out Validation: Hold-One-Out Validation is a variant of Leave-One-Out Cross-Validation where one sample is randomly held out as the validation set, and the remaining samples are used for training. This process is repeated multiple times with different samples being held out, and the model's performance is evaluated by averaging the results.\n",
        "\n",
        "* Validation Curve: A Validation Curve is a plot that shows how the model's performance (e.g., accuracy, loss) changes with different values of a hyperparameter. It is typically used to visualize the effect of a hyperparameter on the model's performance."
      ],
      "metadata": {
        "id": "O0cdj7UDKee_"
      }
    },
    {
      "cell_type": "markdown",
      "source": [
        "## Validation for financial risk models"
      ],
      "metadata": {
        "id": "UPBqhUAMLBWk"
      }
    },
    {
      "cell_type": "markdown",
      "source": [
        "Here's a list of techniques commonly used for validating financial risk models:\n",
        "\n",
        "1. Backtesting: Backtesting is a widely used technique in financial risk model validation, particularly for evaluating the performance of quantitative risk models such as Value at Risk (VaR) or Expected Shortfall (ES). It involves comparing the predicted risk measures with the actual observed outcomes over a historical period. This helps in assessing the accuracy and reliability of the model's risk estimates.\n",
        "\n",
        "2. Stress Testing: Stress testing is a technique used to evaluate the performance of financial risk models under extreme or severe market conditions. It involves simulating extreme scenarios, such as market crashes or economic downturns, and evaluating the model's ability to capture the impact of such events on portfolio risk. Stress testing helps in assessing the robustness and resilience of risk models under adverse conditions.\n",
        "\n",
        "3. Scenario Analysis: Scenario analysis involves testing the performance of financial risk models by simulating various hypothetical scenarios, such as changes in market conditions, economic variables, or regulatory changes. This helps in assessing the model's sensitivity to different scenarios and its ability to capture the impact of changing market conditions on portfolio risk.\n",
        "\n",
        "4. Out-of-Sample Testing: Out-of-sample testing is a technique used to assess the generalization performance of financial risk models. It involves using a separate dataset that was not used during the model's training or calibration to evaluate its performance. This helps in assessing the model's ability to perform well on unseen data and provides a more unbiased estimate of its performance in real-world conditions.\n",
        "\n",
        "5. Model Comparison: Model comparison involves comparing the performance of different risk models using various performance metrics, such as accuracy, precision, recall, or F1-score. This helps in selecting the best-performing model among multiple candidate models and identifying any differences in their performance.\n",
        "\n",
        "6. Model Validation Metrics: Model validation metrics are quantitative measures used to assess the accuracy, robustness, and reliability of financial risk models. These metrics include measures such as root mean squared error (RMSE), mean absolute error (MAE), calibration tests, model stability tests, and performance tracking metrics. These metrics provide objective measures to evaluate the performance of risk models and ensure their validity.\n",
        "\n",
        "7. Sensitivity Analysis: Sensitivity analysis involves testing the model's performance by varying input parameters or assumptions within a certain range and evaluating the impact on the model's output. This helps in understanding the sensitivity of the model's results to changes in input variables and identifying any potential weaknesses or limitations of the model.\n",
        "\n",
        "8. Expert Judgment: Expert judgment is a qualitative validation technique that involves seeking input from domain experts or experienced practitioners in the field of financial risk management. Expert judgment can provide valuable insights and feedback on the model's assumptions, methodology, and results, and helps in identifying any potential issues or areas for improvement.\n",
        "\n",
        "9. Peer Review: Peer review involves having the model and its results reviewed by an independent group of experts or peers who are not directly involved in the model's development. Peer review can provide an unbiased assessment of the model's strengths, weaknesses, and overall validity, and helps in ensuring the integrity and quality of the risk model.\n",
        "\n",
        "10. Regulatory Compliance: Regulatory compliance is an important aspect of financial risk model validation, particularly for models used in regulated financial institutions. Validation processes should comply with regulatory guidelines and requirements, such as those set forth by regulatory authorities such as the Basel Committee on Banking Supervision (BCBS), the Federal Reserve, or other relevant regulatory bodies.\n",
        "\n",
        "It's important to note that validation techniques may vary depending on the specific type of financial risk model being used, the regulatory requirements, and the specific context of the financial institution or organization. It's recommended to use a combination of multiple techniques to thoroughly validate financial risk models and ensure their accuracy, reliability, and compliance with regulatory requirements."
      ],
      "metadata": {
        "id": "oOtFZN7xLCPh"
      }
    },
    {
      "cell_type": "markdown",
      "source": [
        "An example for the backtesting technique"
      ],
      "metadata": {
        "id": "iakXqymCLvs1"
      }
    },
    {
      "cell_type": "code",
      "source": [
        "import numpy as np\n",
        "import pandas as pd\n",
        "import yfinance as yf\n",
        "\n",
        "# Load historical stock price data from Yahoo Finance\n",
        "ticker = 'AAPL'  # Specify the stock ticker symbol\n",
        "start_date = '2010-01-01'  # Specify the start date of the historical data\n",
        "end_date = '2022-12-31'  # Specify the end date of the historical data\n",
        "historical_data = yf.download(ticker, start=start_date, end=end_date, interval='1d')\n",
        "historical_data['Returns'] = historical_data['Adj Close'].pct_change()  # Calculate daily returns\n",
        "historical_data.dropna(inplace=True)  # Drop rows with missing values\n",
        "\n",
        "# Calculate portfolio VaR\n",
        "alpha = 0.05  # Confidence level\n",
        "portfolio_returns = historical_data['Returns'].sum()  # Sum of returns for all stocks in the portfolio\n",
        "portfolio_var = portfolio_returns * alpha  # Calculate portfolio VaR\n",
        "\n",
        "# Calculate portfolio actual losses\n",
        "portfolio_losses = portfolio_returns[portfolio_returns < portfolio_var]\n",
        "\n",
        "# Calculate backtest metrics\n",
        "num_losses = len(portfolio_losses)\n",
        "num_occurrences = 1  # Since portfolio_returns is a single float value, set num_occurrences to 1\n",
        "backtest_coverage = num_losses / num_occurrences\n",
        "backtest_expected_shortfall = portfolio_losses.mean()\n",
        "backtest_violation_ratio = num_losses / num_occurrences\n",
        "\n",
        "# Print backtest results\n",
        "print('Backtest Results:')\n",
        "print('------------------')\n",
        "print('VaR Confidence Level:', alpha)\n",
        "print('Coverage:', backtest_coverage)\n",
        "print('Expected Shortfall:', backtest_expected_shortfall)\n",
        "print('Violation Ratio:', backtest_violation_ratio)\n"
      ],
      "metadata": {
        "colab": {
          "base_uri": "https://localhost:8080/"
        },
        "id": "mYKFrpzgK8iZ",
        "outputId": "55099921-44bc-4ad9-fea5-6962759e9be0"
      },
      "execution_count": 9,
      "outputs": [
        {
          "output_type": "stream",
          "name": "stdout",
          "text": [
            "\r[*********************100%***********************]  1 of 1 completed\n",
            "Backtest Results:\n",
            "------------------\n",
            "VaR Confidence Level: 0.05\n",
            "Coverage: 0.0\n",
            "Expected Shortfall: nan\n",
            "Violation Ratio: 0.0\n"
          ]
        },
        {
          "output_type": "stream",
          "name": "stderr",
          "text": [
            "<ipython-input-9-a7d1b0ba5dd0>:25: RuntimeWarning: Mean of empty slice.\n",
            "  backtest_expected_shortfall = portfolio_losses.mean()\n",
            "/usr/local/lib/python3.9/dist-packages/numpy/core/_methods.py:189: RuntimeWarning: invalid value encountered in double_scalars\n",
            "  ret = ret.dtype.type(ret / rcount)\n"
          ]
        }
      ]
    },
    {
      "cell_type": "markdown",
      "source": [
        "Another one example for backtesting"
      ],
      "metadata": {
        "id": "MrBS8aqMNdvr"
      }
    },
    {
      "cell_type": "code",
      "source": [
        "import numpy as np\n",
        "import pandas as pd\n",
        "import yfinance as yf\n",
        "\n",
        "# Load historical stock price data from Yahoo Finance\n",
        "ticker = 'MSFT'  # Specify the stock ticker symbol\n",
        "start_date = '2015-01-01'  # Specify the start date of the historical data\n",
        "end_date = '2022-12-31'  # Specify the end date of the historical data\n",
        "historical_data = yf.download(ticker, start=start_date, end=end_date, interval='1d')\n",
        "historical_data['Returns'] = historical_data['Adj Close'].pct_change()  # Calculate daily returns\n",
        "historical_data.dropna(inplace=True)  # Drop rows with missing values\n",
        "\n",
        "# Define a simple moving average (SMA) strategy\n",
        "def sma_strategy(data, window_short, window_long):\n",
        "    signals = pd.DataFrame(index=data.index)\n",
        "    signals['signal'] = None\n",
        "    signals['signal'][window_long:] = np.where(data['Close'][window_long:] > data['SMA_short'][window_long:], 'Buy', 'Sell')\n",
        "    signals['positions'] = signals['signal'].diff()\n",
        "    return signals\n",
        "\n",
        "# Calculate moving averages\n",
        "window_short = 20  # Specify the short window for SMA\n",
        "window_long = 50  # Specify the long window for SMA\n",
        "historical_data['SMA_short'] = historical_data['Close'].rolling(window=window_short).mean()\n",
        "historical_data['SMA_long'] = historical_data['Close'].rolling(window=window_long).mean()\n",
        "\n",
        "# Generate signals\n",
        "try:\n",
        "    signals = sma_strategy(historical_data, window_short, window_long)\n",
        "except TypeError as e:\n",
        "    print(f\"Error: {e}\")\n",
        "    signals = pd.DataFrame(index=historical_data.index)\n",
        "    signals['signal'] = None\n",
        "    signals['positions'] = None\n",
        "\n",
        "# Drop rows with 'None' values in the signals DataFrame\n",
        "signals.dropna(inplace=True)\n",
        "\n",
        "# Calculate portfolio returns\n",
        "historical_data['Signal'] = signals['signal']\n",
        "historical_data['StrategyReturns'] = historical_data['Returns'] * signals['positions'].shift(1)\n",
        "\n",
        "# Drop rows with 'NaN' values in the StrategyReturns column\n",
        "historical_data.dropna(subset=['StrategyReturns'], inplace=True)\n",
        "\n",
        "# Calculate backtest metrics\n",
        "num_losses = len(historical_data[historical_data['StrategyReturns'] < 0])\n",
        "num_occurrences = len(historical_data)\n",
        "backtest_coverage = 1 - (num_losses / num_occurrences) if num_losses != 0 else 1.0\n",
        "backtest_expected_shortfall = historical_data[historical_data['StrategyReturns'] < 0]['StrategyReturns'].mean()\n",
        "backtest_violation_ratio = num_losses / num_occurrences if num_occurrences != 0 else 0.0\n",
        "\n",
        "# Print backtest results\n",
        "print('Backtest Results:')\n",
        "print('------------------')\n",
        "print('Coverage:', backtest_coverage)\n",
        "print('Expected Shortfall:', backtest_expected_shortfall)\n",
        "print('Violation Ratio:', backtest_violation_ratio)\n"
      ],
      "metadata": {
        "colab": {
          "base_uri": "https://localhost:8080/"
        },
        "id": "YNhQ5hxFNhEp",
        "outputId": "14a7a947-c41f-41d4-9958-0414fa82027d"
      },
      "execution_count": 17,
      "outputs": [
        {
          "output_type": "stream",
          "name": "stdout",
          "text": [
            "\r[*********************100%***********************]  1 of 1 completed\n",
            "Error: unsupported operand type(s) for -: 'NoneType' and 'NoneType'\n",
            "Backtest Results:\n",
            "------------------\n",
            "Coverage: 1.0\n",
            "Expected Shortfall: nan\n",
            "Violation Ratio: 0.0\n"
          ]
        }
      ]
    }
  ]
}